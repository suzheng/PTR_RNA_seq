{
 "cells": [
  {
   "cell_type": "markdown",
   "id": "7bfcd775",
   "metadata": {},
   "source": [
    "## This is the script to generate Figure 1b, 2b, 1c, 2c and Figure S2"
   ]
  },
  {
   "cell_type": "code",
   "execution_count": 2,
   "id": "ea0f3045",
   "metadata": {},
   "outputs": [
    {
     "name": "stderr",
     "output_type": "stream",
     "text": [
      "\n",
      "Attaching package: ‘dplyr’\n",
      "\n",
      "\n",
      "The following objects are masked from ‘package:stats’:\n",
      "\n",
      "    filter, lag\n",
      "\n",
      "\n",
      "The following objects are masked from ‘package:base’:\n",
      "\n",
      "    intersect, setdiff, setequal, union\n",
      "\n",
      "\n",
      "Warning message:\n",
      "“replacing previous import ‘dplyr::collapse’ by ‘glue::collapse’ when loading ‘statsExpressions’”\n",
      "You can cite this package as:\n",
      "     Patil, I. (2021). Visualizations with statistical details: The 'ggstatsplot' approach.\n",
      "     Journal of Open Source Software, 6(61), 3167, doi:10.21105/joss.03167\n",
      "\n"
     ]
    }
   ],
   "source": [
    "library(ggplot2)\n",
    "library(dplyr)\n",
    "library(ggstatsplot)\n",
    "library(grid)\n",
    "library(ggthemes)\n",
    "library(RColorBrewer)\n",
    "library(ggpubr)"
   ]
  },
  {
   "cell_type": "code",
   "execution_count": 235,
   "id": "9260a5fd",
   "metadata": {},
   "outputs": [],
   "source": [
    "#ggplot publication ready theme\n",
    "theme_Publication <- function(base_size = pt_sz, base_family=family_sz) {\n",
    "      library(grid)\n",
    "      library(ggthemes)\n",
    "      (theme_foundation(base_size=base_size, base_family=base_family)\n",
    "       + theme(plot.title = element_text(face = \"bold\",\n",
    "                                         size = rel(1.2), hjust = 0.5),\n",
    "               text = element_text(),\n",
    "               panel.background = element_rect(colour = NA),\n",
    "               plot.background = element_rect(colour = NA),\n",
    "               panel.border = element_rect(colour = NA),\n",
    "               axis.title = element_text(size = rel(1)),\n",
    "               axis.title.y = element_text(angle=90,vjust =2),\n",
    "               axis.title.x = element_text(vjust = -0.2),\n",
    "               axis.text = element_text(), \n",
    "               axis.line = element_line(colour=\"black\"),\n",
    "               axis.ticks = element_line(),\n",
    "               panel.grid.major = element_line(colour=\"#f0f0f0\"),\n",
    "               panel.grid.minor = element_blank(),\n",
    "               legend.key = element_rect(colour = NA),\n",
    "               legend.position = \"bottom\",\n",
    "               legend.direction = \"horizontal\",\n",
    "               legend.key.size= unit(0.2, \"cm\"),\n",
    "               legend.margin = unit(0, \"cm\"),\n",
    "               legend.title = element_text(face=\"italic\"),\n",
    "               plot.margin=unit(c(10,5,5,5),\"mm\"),\n",
    "               strip.background=element_rect(colour=\"#f0f0f0\",fill=\"#f0f0f0\"),\n",
    "               strip.text = element_text(face=\"bold\")\n",
    "          ))\n",
    "      \n",
    "}\n",
    "\n",
    "scale_fill_Publication <- function(...){\n",
    "      library(scales)\n",
    "      discrete_scale(\"fill\",\"Publication\",manual_pal(values = c(\"#386cb0\",\"#fdb462\",\"#7fc97f\",\"#ef3b2c\",\"#662506\",\"#a6cee3\",\"#fb9a99\",\"#984ea3\",\"#ffff33\")), ...)\n",
    "\n",
    "}\n",
    "\n",
    "scale_colour_Publication <- function(...){\n",
    "      library(scales)\n",
    "      discrete_scale(\"colour\",\"Publication\",manual_pal(values = c(\"#386cb0\",\"#fdb462\",\"#7fc97f\",\"#ef3b2c\",\"#662506\",\"#a6cee3\",\"#fb9a99\",\"#984ea3\",\"#ffff33\")), ...)\n",
    "\n",
    "}"
   ]
  },
  {
   "cell_type": "code",
   "execution_count": 236,
   "id": "58fa2d99",
   "metadata": {},
   "outputs": [],
   "source": [
    "dir <- \"/Users/suzheng/Documents/suzheng/UNSW/UNSWTasks/2021/velocityRNA/results/combined_analysis/dge_data_collection\"\n",
    "setwd(dir)"
   ]
  },
  {
   "cell_type": "code",
   "execution_count": 237,
   "id": "56da7dc2",
   "metadata": {},
   "outputs": [],
   "source": []
  },
  {
   "cell_type": "code",
   "execution_count": 238,
   "id": "b56f7dec",
   "metadata": {},
   "outputs": [
    {
     "name": "stdout",
     "output_type": "stream",
     "text": [
      "[1] \"Abnormal_conditions\"    \"GTEx_tissues\"           \"GTEx_tissues_5_samples\"\n",
      "[4] \"Non-human_tissues\"      \"SRA_tissues\"           \n",
      "[1] \"\\n\"\n",
      "[1] \"3prime_reads\"     \"5prime_reads\"     \"All_mapped_reads\" \"Boundary_reads\"  \n",
      "[1] \"\\n\"\n",
      "[1] \"All_reads\"  \"Subsampled\"\n",
      "[1] \"\\n\"\n",
      "[1] \"DESeq2\" \"EdgeR\" \n",
      "[1] \"\\n\"\n",
      "[1] \"LogCPM5\" \"LogCPM0\"\n",
      "[1] \"\\n\"\n"
     ]
    }
   ],
   "source": [
    "#read the data of mean delta fold change by comparison\n",
    "file <- \"fc_stat_stat/cat.fc_stat.txt\"\n",
    "rt <- read.csv(file, header=F, sep=\"\\t\")\n",
    "colnames(rt) <- c(\"study\", \"delta_fc\", \"pval\", \"group\", \"reads\", \"sampling\", \"tool\", \"cpm\")\n",
    "#SRP045666 is not disease condition\n",
    "#command to find the number of genes used to calculate the mean delta fold change\n",
    "#l /Users/suzheng/Documents/suzheng/UNSW/UNSWTasks/2021/velocityRNA/results/combined_analysis/dge_data_collection/stat_collected/abnormal_conditions.all_reads.DESeq2.logCPM5.fc_data|cut -f1|sort|uniq -c|sort -k1,1n|l\n",
    "lt_30 <- c(\"SRP032165\", \"SRP047194.d11\", \"SRP043221\", \"SRP045666\")\n",
    "lt_50 <- c(lt_30, c(\"SRP047194.d31\", \"SRP063059\"))\n",
    "#will used in Median delta fold change calculation\n",
    "#mean delta fold change will only be calculated on comparisons with >= 50 genes\n",
    "exclude_list <- lt_50\n",
    "\n",
    "filterd_passsed <- unique (grep(paste(exclude_list,collapse=\"|\"), rt$study, ignore.case=T, invert=T))\n",
    "rt <- rt[filterd_passsed,]\n",
    "\n",
    "#print different kinds of experiments in comparisons\n",
    "for(i in 4:8){\n",
    "    print(unique(rt[,i]))\n",
    "    print(\"\\n\")\n",
    "}"
   ]
  },
  {
   "cell_type": "code",
   "execution_count": 239,
   "id": "d2abf5a4",
   "metadata": {},
   "outputs": [],
   "source": [
    "#Change the group names to reomve underscores\n",
    "change_group_names <- function(dat){\n",
    "    dat$group[dat$group==\"Abnormal_conditions\" | dat$group==\"abnormal_conditions\"] <- \"Diseases\"\n",
    "    dat$group[dat$group==\"GTEx_tissues\" | dat$group==\"gtex_tissue\"] <- \"GTEx tissues\"\n",
    "    dat$group[dat$group==\"Non-human_tissues\" | dat$group==\"non-human_species\"] <- \"Non-human\\ntissues\"\n",
    "    dat$group[dat$group==\"SRA_tissues\" | dat$group==\"sra_tissues\"] <- \"SRA tissues\"\n",
    "    dat$group[dat$group==\"GTEx_tissues_5_samples\" | dat$group==\"gtex_tissue_5_samples\"] <- \"GTEx tissues\\n(5 samples)\"\n",
    "\n",
    "    dat$group <- factor(dat$group, levels=c(\"GTEx tissues\", \"GTEx tissues\\n(5 samples)\", \"SRA tissues\", \"Non-human\\ntissues\", \"Diseases\"))\n",
    "    dat\n",
    "}"
   ]
  },
  {
   "cell_type": "code",
   "execution_count": 240,
   "id": "332a0efd",
   "metadata": {},
   "outputs": [],
   "source": [
    "#output folder\n",
    "vis_dir <- \"/Users/suzheng/Documents/suzheng/UNSW/UNSWTasks/2021/velocityRNA/results/combined_analysis/visualize4paper/Figures/\""
   ]
  },
  {
   "cell_type": "code",
   "execution_count": 241,
   "id": "877c92d6",
   "metadata": {},
   "outputs": [
    {
     "name": "stderr",
     "output_type": "stream",
     "text": [
      "Warning message:\n",
      "“Using `bins = 30` by default. Pick better value with the argument `bins`.”\n",
      "Warning message:\n",
      "“geom_vline(): Ignoring `mapping` because `xintercept` was provided.”\n",
      "Warning message:\n",
      "“geom_vline(): Ignoring `data` because `xintercept` was provided.”\n",
      "Warning message:\n",
      "“`legend.margin` must be specified using `margin()`. For the old behavior use legend.spacing”\n"
     ]
    },
    {
     "data": {
      "text/html": [
       "<strong>pdf:</strong> 2"
      ],
      "text/latex": [
       "\\textbf{pdf:} 2"
      ],
      "text/markdown": [
       "**pdf:** 2"
      ],
      "text/plain": [
       "pdf \n",
       "  2 "
      ]
     },
     "metadata": {},
     "output_type": "display_data"
    },
    {
     "name": "stderr",
     "output_type": "stream",
     "text": [
      "Warning message:\n",
      "“Using `bins = 30` by default. Pick better value with the argument `bins`.”\n",
      "Warning message:\n",
      "“geom_vline(): Ignoring `mapping` because `xintercept` was provided.”\n",
      "Warning message:\n",
      "“geom_vline(): Ignoring `data` because `xintercept` was provided.”\n",
      "Warning message:\n",
      "“`legend.margin` must be specified using `margin()`. For the old behavior use legend.spacing”\n"
     ]
    },
    {
     "data": {
      "text/html": [
       "<strong>pdf:</strong> 2"
      ],
      "text/latex": [
       "\\textbf{pdf:} 2"
      ],
      "text/markdown": [
       "**pdf:** 2"
      ],
      "text/plain": [
       "pdf \n",
       "  2 "
      ]
     },
     "metadata": {},
     "output_type": "display_data"
    }
   ],
   "source": [
    "#load shared colors or values\n",
    "source(\"/Users/suzheng/Documents/suzheng/UNSW/UNSWTasks/2021/velocityRNA/results/combined_analysis/visualize4paper/shared/shared.R\")\n",
    "#plot Figure 1b and 2b\n",
    "plot_hist <- function(dat, col){\n",
    "    gghistogram(dat, x=\"delta_fc\", \n",
    "            add = \"mean\", rug = FALSE,\n",
    "            col = col,\n",
    "            palette = c(\"npg\"),\n",
    "            xlab=\"Mean delta fold change\",\n",
    "            ylab=\"Density\",\n",
    "            size=0.65\n",
    "  ) + geom_vline(xintercept=0, linetype=\"dashed\", color = \"#060606\", size=0.75) +\n",
    "    theme_Publication(base_family=family_sz, \n",
    "                      base_size = pt_sz\n",
    "                     ) +\n",
    "      \n",
    "      theme(legend.position = \"none\",\n",
    "           panel.grid.major = element_blank(),\n",
    "            axis.line = element_line(size=0.4),\n",
    "            axis.title = element_text(face = NULL,size = rel(1))\n",
    "           \n",
    "           ) +xlim(c(-0.75, 0.75))\n",
    "}\n",
    "\n",
    "dat <- rt %>% filter(rt$reads == \"All_mapped_reads\" & rt$sampling == \"Subsampled\" & rt$tool == \"DESeq2\" & rt$cpm == \"LogCPM5\")\n",
    "dat_all_reads <- change_group_names(dat)\n",
    "\n",
    "pdf(paste0(vis_dir, \"Figure1b.pdf\"), width=2.13, height=2.13, pointsize=pt_sz)\n",
    "\n",
    "plot_hist(dat_all_reads[dat_all_reads$group==\"GTEx tissues\",], col=col_sz[1])\n",
    "dev.off()\n",
    "\n",
    "\n",
    "pdf(paste0(vis_dir, \"Figure2b.pdf\"), width=2.13, height=2.13, pointsize=pt_sz)\n",
    "plot_hist(dat_all_reads[dat_all_reads$group==\"Diseases\",], col=col_sz[4])\n",
    "\n",
    "dev.off()\n",
    "#brewer.pal(n = 8, name = \"Dark2\")\n"
   ]
  },
  {
   "cell_type": "code",
   "execution_count": 242,
   "id": "729cb69f",
   "metadata": {},
   "outputs": [
    {
     "name": "stderr",
     "output_type": "stream",
     "text": [
      "Warning message:\n",
      "“`legend.margin` must be specified using `margin()`. For the old behavior use legend.spacing”\n",
      "Scale for 'colour' is already present. Adding another scale for 'colour',\n",
      "which will replace the existing scale.\n",
      "\n"
     ]
    },
    {
     "data": {
      "text/html": [
       "<strong>pdf:</strong> 2"
      ],
      "text/latex": [
       "\\textbf{pdf:} 2"
      ],
      "text/markdown": [
       "**pdf:** 2"
      ],
      "text/plain": [
       "pdf \n",
       "  2 "
      ]
     },
     "metadata": {},
     "output_type": "display_data"
    }
   ],
   "source": [
    "#function to generate box plot and violin plot\n",
    "plot_ggbetweenstats <- function(dat, cols){\n",
    "    plt <-ggbetweenstats(\n",
    "      data = dat,\n",
    "      x = group,\n",
    "      y = delta_fc,\n",
    "      pairwise.comparisons=FALSE,\n",
    "      bf.message = FALSE,\n",
    "      results.subtitle = FALSE,\n",
    "      xlab = \"\",\n",
    "      ylab = \"Mean delta fold change\",\n",
    "      centrality.plotting = FALSE,\n",
    "      point.args = list(position = ggplot2::position_jitterdodge(dodge.width = 0.6),size=1.35,alpha=0.8, stroke=0)\n",
    "    )\n",
    "    plt + geom_hline(yintercept=0, linetype=\"dashed\", color = \"#060606\", size=0.75) + \n",
    "      theme_Publication() +\n",
    "      scale_color_manual(values=cols) +\n",
    "      theme(legend.position = \"none\",\n",
    "           panel.grid.major = element_blank()\n",
    "           )\n",
    "    \n",
    "}\n",
    "\n",
    "#options(repr.plot.width=4, repr.plot.height=2)\n",
    "pdf(paste0(vis_dir, \"/Figure1c.pdf\"), width=3.5, height=2.2)\n",
    "par(mar=c(0.2,0.1,0,0.5))\n",
    "dat <- rt %>% filter(rt$group != \"GTEx_tissues_5_samples\" & rt$group != \"Abnormal_conditions\" & rt$reads == \"All_mapped_reads\" & rt$sampling == \"Subsampled\" & rt$tool == \"DESeq2\" & rt$cpm == \"LogCPM5\")\n",
    "dat_all_reads <- change_group_names(dat)\n",
    "plot_ggbetweenstats(dat_all_reads,col_sz[c(1,2,3)])\n",
    "dev.off()"
   ]
  },
  {
   "cell_type": "code",
   "execution_count": 278,
   "id": "2ccd7786",
   "metadata": {},
   "outputs": [
    {
     "name": "stderr",
     "output_type": "stream",
     "text": [
      "Warning message:\n",
      "“`legend.margin` must be specified using `margin()`. For the old behavior use legend.spacing”\n",
      "Scale for 'colour' is already present. Adding another scale for 'colour',\n",
      "which will replace the existing scale.\n",
      "\n"
     ]
    },
    {
     "data": {
      "text/html": [
       "<strong>pdf:</strong> 2"
      ],
      "text/latex": [
       "\\textbf{pdf:} 2"
      ],
      "text/markdown": [
       "**pdf:** 2"
      ],
      "text/plain": [
       "pdf \n",
       "  2 "
      ]
     },
     "metadata": {},
     "output_type": "display_data"
    }
   ],
   "source": [
    "dat <- rt %>% filter(rt$group != \"GTEx_tissues_5_samples\" & rt$reads == \"All_mapped_reads\" & rt$sampling == \"Subsampled\" & rt$tool == \"DESeq2\" & rt$cpm == \"LogCPM5\")\n",
    "dat_all_reads <- change_group_names(dat)\n",
    "\n",
    "options(repr.plot.width=4, repr.plot.height=2)\n",
    "pdf(paste0(vis_dir, \"/Figure2c.pdf\"), width=4.8, height=2.2)\n",
    "par(mar=c(0.2,0.1,0,0.5))\n",
    "\n",
    "plot_ggbetweenstats(dat_all_reads,col_sz[1:4])\n",
    "dev.off()\n",
    "\n"
   ]
  },
  {
   "cell_type": "code",
   "execution_count": 277,
   "id": "0ba4f955",
   "metadata": {},
   "outputs": [
    {
     "name": "stdout",
     "output_type": "stream",
     "text": [
      "[1] \"test Abnormal_conditions\"\n",
      "[1] \"one sample t-test used\"\n",
      "\n",
      "\tOne Sample t-test\n",
      "\n",
      "data:  one_group_dat\n",
      "t = -7.2643, df = 42, p-value = 3.051e-09\n",
      "alternative hypothesis: true mean is less than 0\n",
      "95 percent confidence interval:\n",
      "       -Inf -0.1671238\n",
      "sample estimates:\n",
      " mean of x \n",
      "-0.2174778 \n",
      "\n",
      "[1] \"\"\n",
      "[1] \"\"\n",
      "[1] \"test GTEx_tissues\"\n",
      "[1] \"one sample wilcox test used\"\n",
      "\n",
      "\tWilcoxon signed rank test with continuity correction\n",
      "\n",
      "data:  one_group_dat\n",
      "V = 153929, p-value < 2.2e-16\n",
      "alternative hypothesis: true location is greater than 0\n",
      "\n",
      "[1] \"\"\n",
      "[1] \"\"\n",
      "[1] \"test Non-human_tissues\"\n",
      "[1] \"one sample wilcox test used\"\n",
      "\n",
      "\tWilcoxon signed rank exact test\n",
      "\n",
      "data:  one_group_dat\n",
      "V = 421, p-value = 1.344e-05\n",
      "alternative hypothesis: true location is greater than 0\n",
      "\n",
      "[1] \"\"\n",
      "[1] \"\"\n",
      "[1] \"test SRA_tissues\"\n",
      "[1] \"one sample wilcox test used\"\n",
      "\n",
      "\tWilcoxon signed rank test with continuity correction\n",
      "\n",
      "data:  one_group_dat\n",
      "V = 11297, p-value = 1.049e-14\n",
      "alternative hypothesis: true location is greater than 0\n",
      "\n",
      "[1] \"\"\n",
      "[1] \"\"\n"
     ]
    }
   ],
   "source": [
    "#test if mean delta fold change in each of tissue group is significantly greater than zero, or disease is significantly less than zero\n",
    "for(group in unique(dat$group)){\n",
    "    print(paste(\"test\", group))\n",
    "    one_group_dat <- dat$delta_fc[dat$group==group]\n",
    "    alt <- \"less\"\n",
    "    if(median(one_group_dat) > 0){\n",
    "        alt <- \"greater\"\n",
    "    }\n",
    "\n",
    "    if(shapiro.test(one_group_dat)$p.value > 0.05){\n",
    "        print(\"one sample t-test used\")\n",
    "        print(t.test(one_group_dat, mu=0, alternative = alt))\n",
    "    }else{\n",
    "        print(\"one sample wilcox test used\")\n",
    "        print(wilcox.test(one_group_dat, mu = 0, alternative = alt))\n",
    "    }\n",
    "    print(\"\");print(\"\")\n",
    "}\n",
    "\n",
    "\n",
    "#"
   ]
  },
  {
   "cell_type": "code",
   "execution_count": 244,
   "id": "059ae766",
   "metadata": {},
   "outputs": [
    {
     "name": "stderr",
     "output_type": "stream",
     "text": [
      "Warning message:\n",
      "“`legend.margin` must be specified using `margin()`. For the old behavior use legend.spacing”\n"
     ]
    },
    {
     "data": {
      "text/html": [
       "<strong>pdf:</strong> 2"
      ],
      "text/latex": [
       "\\textbf{pdf:} 2"
      ],
      "text/markdown": [
       "**pdf:** 2"
      ],
      "text/plain": [
       "pdf \n",
       "  2 "
      ]
     },
     "metadata": {},
     "output_type": "display_data"
    }
   ],
   "source": [
    "#function to plot boxplot in Figure S2\n",
    "plot_boxplot <-function(dat, fill_group, legend_title, cols=col_sz, ylab=\"Mean delta fold change\", legend.position=\"top\"){\n",
    "    if(fill_group==\"group\"){\n",
    "        legend.position=\"none\"\n",
    "    }\n",
    "    p <- ggplot(data = dat, aes(x=group, y=delta_fc)) + \n",
    "     geom_boxplot(aes_string(fill=fill_group), lwd=0.26, outlier.size = 0.4)\n",
    "\n",
    "\n",
    "    p + geom_hline(yintercept=0, linetype=\"dashed\", color = \"#060606\", size=0.6) + \n",
    "          theme_Publication() +\n",
    "          scale_color_manual(values=cols) +\n",
    "          scale_fill_manual(values=cols) +\n",
    "          theme(panel.grid.major = element_blank(), \n",
    "                legend.key.size = unit(0.3, 'cm'),\n",
    "                legend.position=legend.position\n",
    "               ) +\n",
    "          guides(fill=guide_legend(title=legend_title)) +\n",
    "          labs(y=ylab, x=\"\")\n",
    "}\n",
    "\n",
    "\n",
    "pdf(paste0(vis_dir, \"/FigureS2d.pdf\"), width=4, height=2.5)\n",
    "#options(repr.plot.width=7, repr.plot.height=5)\n",
    "dat <- rt %>% filter(rt$group != \"GTEx_tissues_5_samples\" & rt$group != \"Non-human_tissues\" & rt$sampling == \"Subsampled\" & rt$tool == \"DESeq2\" & rt$cpm == \"LogCPM5\")\n",
    "dat <- change_group_names(dat)\n",
    "dat$reads <- gsub(\"_\", \" \", dat$reads)\n",
    "plot_boxplot(dat, \"reads\", \"Reads\")\n",
    "dev.off()"
   ]
  },
  {
   "cell_type": "code",
   "execution_count": 245,
   "id": "c90d46dc",
   "metadata": {},
   "outputs": [
    {
     "name": "stderr",
     "output_type": "stream",
     "text": [
      "Warning message:\n",
      "“`legend.margin` must be specified using `margin()`. For the old behavior use legend.spacing”\n"
     ]
    },
    {
     "data": {
      "text/html": [
       "<strong>pdf:</strong> 2"
      ],
      "text/latex": [
       "\\textbf{pdf:} 2"
      ],
      "text/markdown": [
       "**pdf:** 2"
      ],
      "text/plain": [
       "pdf \n",
       "  2 "
      ]
     },
     "metadata": {},
     "output_type": "display_data"
    }
   ],
   "source": [
    "pdf(paste0(vis_dir, \"/FigureS2c.pdf\"), width=4, height=2.5)\n",
    "dat <- rt %>% filter(rt$group != \"GTEx_tissues_5_samples\" & rt$reads==\"All_mapped_reads\"  & rt$tool == \"DESeq2\"  & rt$cpm == \"LogCPM5\")\n",
    "dat <- change_group_names(dat)\n",
    "dat$sampling <- gsub(\"_\", \" \", dat$sampling)\n",
    "plot_boxplot(dat, \"sampling\", \"Read sampling\")\n",
    "\n",
    "\n",
    "dev.off()\n"
   ]
  },
  {
   "cell_type": "code",
   "execution_count": 246,
   "id": "42745a9a",
   "metadata": {},
   "outputs": [
    {
     "name": "stderr",
     "output_type": "stream",
     "text": [
      "Warning message:\n",
      "“`legend.margin` must be specified using `margin()`. For the old behavior use legend.spacing”\n"
     ]
    },
    {
     "data": {
      "text/html": [
       "<strong>pdf:</strong> 2"
      ],
      "text/latex": [
       "\\textbf{pdf:} 2"
      ],
      "text/markdown": [
       "**pdf:** 2"
      ],
      "text/plain": [
       "pdf \n",
       "  2 "
      ]
     },
     "metadata": {},
     "output_type": "display_data"
    }
   ],
   "source": [
    "pdf(paste0(vis_dir, \"/FigureS2a.pdf\"), width=4, height=2.5)\n",
    "dat <- rt %>% filter(rt$group != \"GTEx_tissues_5_samples\" & rt$reads==\"All_mapped_reads\"  & rt$cpm == \"LogCPM5\")\n",
    "dat <- change_group_names(dat)\n",
    "plot_boxplot(dat, \"tool\", \"Tool\")\n",
    "\n",
    "dev.off()"
   ]
  },
  {
   "cell_type": "code",
   "execution_count": 247,
   "id": "88e55fe7",
   "metadata": {},
   "outputs": [
    {
     "name": "stderr",
     "output_type": "stream",
     "text": [
      "Warning message:\n",
      "“`legend.margin` must be specified using `margin()`. For the old behavior use legend.spacing”\n",
      "Scale for 'fill' is already present. Adding another scale for 'fill', which\n",
      "will replace the existing scale.\n",
      "\n"
     ]
    },
    {
     "data": {
      "text/html": [
       "<strong>pdf:</strong> 2"
      ],
      "text/latex": [
       "\\textbf{pdf:} 2"
      ],
      "text/markdown": [
       "**pdf:** 2"
      ],
      "text/plain": [
       "pdf \n",
       "  2 "
      ]
     },
     "metadata": {},
     "output_type": "display_data"
    }
   ],
   "source": [
    "pdf(paste0(vis_dir, \"/FigureS2b.pdf\"), width=4, height=2.5)\n",
    "dat <- rt %>% filter(rt$group != \"GTEx_tissues_5_samples\" & rt$reads==\"All_mapped_reads\" & rt$tool == \"DESeq2\")\n",
    "dat <- change_group_names(dat)\n",
    "p <- plot_boxplot(dat, \"cpm\", \"CPM filtering\")\n",
    "p + scale_fill_manual(name = \"CPM filtering\", labels = c(\"log2CPM > 0\", \"log2CPM > 5\"),values=col_sz)\n",
    "\n",
    "dev.off()"
   ]
  },
  {
   "cell_type": "code",
   "execution_count": 248,
   "id": "8d9fee4a",
   "metadata": {},
   "outputs": [
    {
     "name": "stderr",
     "output_type": "stream",
     "text": [
      "Warning message:\n",
      "“`legend.margin` must be specified using `margin()`. For the old behavior use legend.spacing”\n"
     ]
    },
    {
     "data": {
      "text/html": [
       "<strong>pdf:</strong> 2"
      ],
      "text/latex": [
       "\\textbf{pdf:} 2"
      ],
      "text/markdown": [
       "**pdf:** 2"
      ],
      "text/plain": [
       "pdf \n",
       "  2 "
      ]
     },
     "metadata": {},
     "output_type": "display_data"
    }
   ],
   "source": [
    "pdf(paste0(vis_dir, \"/FigureS2e.pdf\"), width=4, height=2.5)\n",
    "dat <- rt %>% filter(rt$reads == \"All_mapped_reads\" & rt$sampling == \"Subsampled\" & rt$tool == \"DESeq2\" & rt$cpm == \"LogCPM5\")\n",
    "dat <- change_group_names(dat)\n",
    "plot_boxplot(dat, \"group\", \"Group\", col_sz[c(1,5,2,3,4)])\n",
    "\n",
    "dev.off()"
   ]
  },
  {
   "cell_type": "code",
   "execution_count": 252,
   "id": "ce5a15d6",
   "metadata": {},
   "outputs": [],
   "source": [
    "data_dir <- \"/Users/suzheng/Documents/suzheng/UNSW/UNSWTasks/2021/velocityRNA/results/combined_analysis/dge_data_collection/stat_collected\"\n"
   ]
  },
  {
   "cell_type": "code",
   "execution_count": 253,
   "id": "04ef50d6",
   "metadata": {},
   "outputs": [],
   "source": [
    "#calculate the median (not mean) delta fold change for each comparison \n",
    "name <- \"abnormal_conditions\"\n",
    "dat <- data.frame(group=NULL, delta_fc=NULL)\n",
    "for(name in c(\"abnormal_conditions\", \"non-human_species\", \"sra_tissues\", \"gtex_tissue\")){\n",
    "\n",
    "    fc_data <- read.csv(paste0(data_dir, \"/\", name, \".all_reads.DESeq2.logCPM5.fc_data\"), header=F, sep=\"\\t\")\n",
    "    colnames(fc_data) <- c(\"study\", \"ens\", \"e_fc\", \"i_fc\")\n",
    "    if(name == \"abnormal_conditions\"){\n",
    "        filterd_passsed <- unique (grep(paste(exclude_list,collapse=\"|\"), fc_data$study, ignore.case=T, invert=T))\n",
    "        fc_data <- fc_data[filterd_passsed, ]\n",
    "    }\n",
    "    delta_fc <- aggregate(abs(fc_data$e_fc) - abs(fc_data$i_fc), by=list(fc_data$study), median)[,2]\n",
    "    dat <- rbind(dat, data.frame(group=name, delta_fc=delta_fc))\n",
    "#plot(density(delta_fc), main=name)\n",
    "}\n"
   ]
  },
  {
   "cell_type": "code",
   "execution_count": 254,
   "id": "cc51f88a",
   "metadata": {},
   "outputs": [
    {
     "name": "stderr",
     "output_type": "stream",
     "text": [
      "Warning message:\n",
      "“`legend.margin` must be specified using `margin()`. For the old behavior use legend.spacing”\n"
     ]
    },
    {
     "data": {
      "text/html": [
       "<strong>pdf:</strong> 2"
      ],
      "text/latex": [
       "\\textbf{pdf:} 2"
      ],
      "text/markdown": [
       "**pdf:** 2"
      ],
      "text/plain": [
       "pdf \n",
       "  2 "
      ]
     },
     "metadata": {},
     "output_type": "display_data"
    }
   ],
   "source": [
    "#generate Figure S2f\n",
    "\n",
    "dat <- change_group_names(dat)\n",
    "pdf(paste0(vis_dir, \"/FigureS2f.pdf\"), width=4, height=2.5)\n",
    "plot_boxplot(dat, \"group\", \"Group\", ylab=\"Median delta fold change\")\n",
    "dev.off()"
   ]
  },
  {
   "cell_type": "code",
   "execution_count": null,
   "id": "0aff1c17",
   "metadata": {},
   "outputs": [],
   "source": []
  }
 ],
 "metadata": {
  "kernelspec": {
   "display_name": "R",
   "language": "R",
   "name": "ir"
  },
  "language_info": {
   "codemirror_mode": "r",
   "file_extension": ".r",
   "mimetype": "text/x-r-source",
   "name": "R",
   "pygments_lexer": "r",
   "version": "4.1.2"
  }
 },
 "nbformat": 4,
 "nbformat_minor": 5
}
