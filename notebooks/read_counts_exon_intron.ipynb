{
 "cells": [
  {
   "cell_type": "markdown",
   "id": "74c08e87",
   "metadata": {},
   "source": [
    "## This is the script to generate Figure S1a"
   ]
  },
  {
   "cell_type": "code",
   "execution_count": 2,
   "id": "b16e684a",
   "metadata": {},
   "outputs": [
    {
     "name": "stderr",
     "output_type": "stream",
     "text": [
      "\n",
      "Attaching package: ‘dplyr’\n",
      "\n",
      "\n",
      "The following objects are masked from ‘package:stats’:\n",
      "\n",
      "    filter, lag\n",
      "\n",
      "\n",
      "The following objects are masked from ‘package:base’:\n",
      "\n",
      "    intersect, setdiff, setequal, union\n",
      "\n",
      "\n",
      "Loading required package: ggplot2\n",
      "\n"
     ]
    }
   ],
   "source": [
    "library(dplyr)\n",
    "library(ggpubr)"
   ]
  },
  {
   "cell_type": "code",
   "execution_count": 21,
   "id": "8494706c",
   "metadata": {},
   "outputs": [],
   "source": [
    "dir <- \"/Users/suzheng/Documents/suzheng/UNSW/UNSWTasks/2021/velocityRNA/results/combined_analysis/dge_data_collection/read_counts_intron_exon/\"\n",
    "setwd(dir)"
   ]
  },
  {
   "cell_type": "code",
   "execution_count": 22,
   "id": "e59c227b",
   "metadata": {},
   "outputs": [],
   "source": [
    "#load the mean exonic read count and mean intronic read count by sample\n",
    "exon <- read.csv(\"mean_exonic_count_by_sample\", header=F)\n",
    "intron <- read.csv(\"mean_intronic_count_by_sample\", header=F)"
   ]
  },
  {
   "cell_type": "code",
   "execution_count": 23,
   "id": "be7d345e",
   "metadata": {},
   "outputs": [],
   "source": [
    "exon$group <- \"exon\"\n",
    "intron$group <- \"intron\""
   ]
  },
  {
   "cell_type": "code",
   "execution_count": 24,
   "id": "2b6487bf",
   "metadata": {},
   "outputs": [],
   "source": [
    "dat <- rbind(exon, intron)\n",
    "colnames(dat)[1] <- \"read_count\""
   ]
  },
  {
   "cell_type": "code",
   "execution_count": 25,
   "id": "40ef1ebe",
   "metadata": {},
   "outputs": [
    {
     "data": {
      "text/html": [
       "<style>\n",
       ".list-inline {list-style: none; margin:0; padding: 0}\n",
       ".list-inline>li {display: inline-block}\n",
       ".list-inline>li:not(:last-child)::after {content: \"\\00b7\"; padding: 0 .5ex}\n",
       "</style>\n",
       "<ol class=list-inline><li>6534</li><li>2</li></ol>\n"
      ],
      "text/latex": [
       "\\begin{enumerate*}\n",
       "\\item 6534\n",
       "\\item 2\n",
       "\\end{enumerate*}\n"
      ],
      "text/markdown": [
       "1. 6534\n",
       "2. 2\n",
       "\n",
       "\n"
      ],
      "text/plain": [
       "[1] 6534    2"
      ]
     },
     "metadata": {},
     "output_type": "display_data"
    }
   ],
   "source": [
    "dim(dat)"
   ]
  },
  {
   "cell_type": "code",
   "execution_count": 29,
   "id": "dc5d67ba",
   "metadata": {},
   "outputs": [
    {
     "data": {
      "text/html": [
       "<strong>pdf:</strong> 2"
      ],
      "text/latex": [
       "\\textbf{pdf:} 2"
      ],
      "text/markdown": [
       "**pdf:** 2"
      ],
      "text/plain": [
       "pdf \n",
       "  2 "
      ]
     },
     "metadata": {},
     "output_type": "display_data"
    }
   ],
   "source": [
    "#generate the density plot\n",
    "vis_dir <- \"/Users/suzheng/Documents/suzheng/UNSW/UNSWTasks/2021/velocityRNA/results/combined_analysis/visualize4paper/Figures/\"\n",
    "pdf(paste0(vis_dir, \"/FigureS1a.pdf\"), width=4.5, height=4.5)\n",
    "ggdensity(dat[dat$read_count > 10, ], x=\"read_count\", \n",
    "            add = \"mean\", rug = FALSE,\n",
    "            color = \"group\",\n",
    "            palette = c(\"npg\"),\n",
    "            xlab=\"Mean read count per gene\",\n",
    "            ylab=\"Density\",\n",
    "             size=0.7 \n",
    "            \n",
    "    ) + scale_x_continuous(trans='log10')\n",
    "dev.off()"
   ]
  },
  {
   "cell_type": "code",
   "execution_count": null,
   "id": "86267eb6",
   "metadata": {},
   "outputs": [],
   "source": []
  }
 ],
 "metadata": {
  "kernelspec": {
   "display_name": "R",
   "language": "R",
   "name": "ir"
  },
  "language_info": {
   "codemirror_mode": "r",
   "file_extension": ".r",
   "mimetype": "text/x-r-source",
   "name": "R",
   "pygments_lexer": "r",
   "version": "4.1.2"
  }
 },
 "nbformat": 4,
 "nbformat_minor": 5
}
