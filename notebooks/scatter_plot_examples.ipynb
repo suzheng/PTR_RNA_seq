{
 "cells": [
  {
   "cell_type": "markdown",
   "id": "6c07b6ca",
   "metadata": {},
   "source": [
    "## This is the script to generate Figures 1a and 2a"
   ]
  },
  {
   "cell_type": "code",
   "execution_count": 3,
   "id": "0b579d39",
   "metadata": {},
   "outputs": [],
   "source": [
    "library(hexbin)\n",
    "library(RColorBrewer)"
   ]
  },
  {
   "cell_type": "code",
   "execution_count": 2,
   "id": "d8fb73ab",
   "metadata": {},
   "outputs": [],
   "source": [
    "dir <- \"/Users/suzheng/Documents/suzheng/UNSW/UNSWTasks/2021/velocityRNA/results/combined_analysis/dge_data_collection/scatter_plot_examples\"\n",
    "setwd(dir)"
   ]
  },
  {
   "cell_type": "code",
   "execution_count": 126,
   "id": "25cb76d4",
   "metadata": {},
   "outputs": [
    {
     "data": {
      "text/html": [
       "<strong>pdf:</strong> 2"
      ],
      "text/latex": [
       "\\textbf{pdf:} 2"
      ],
      "text/markdown": [
       "**pdf:** 2"
      ],
      "text/plain": [
       "pdf \n",
       "  2 "
      ]
     },
     "metadata": {},
     "output_type": "display_data"
    },
    {
     "data": {
      "text/html": [
       "<strong>pdf:</strong> 2"
      ],
      "text/latex": [
       "\\textbf{pdf:} 2"
      ],
      "text/markdown": [
       "**pdf:** 2"
      ],
      "text/plain": [
       "pdf \n",
       "  2 "
      ]
     },
     "metadata": {},
     "output_type": "display_data"
    },
    {
     "data": {
      "text/html": [
       "<strong>pdf:</strong> 2"
      ],
      "text/latex": [
       "\\textbf{pdf:} 2"
      ],
      "text/markdown": [
       "**pdf:** 2"
      ],
      "text/plain": [
       "pdf \n",
       "  2 "
      ]
     },
     "metadata": {},
     "output_type": "display_data"
    },
    {
     "data": {
      "text/html": [
       "<strong>pdf:</strong> 2"
      ],
      "text/latex": [
       "\\textbf{pdf:} 2"
      ],
      "text/markdown": [
       "**pdf:** 2"
      ],
      "text/plain": [
       "pdf \n",
       "  2 "
      ]
     },
     "metadata": {},
     "output_type": "display_data"
    }
   ],
   "source": [
    "#load shared colors or values\n",
    "source(\"/Users/suzheng/Documents/suzheng/UNSW/UNSWTasks/2021/velocityRNA/results/combined_analysis/visualize4paper/shared/shared.R\")\n",
    "vis_dir <- \"/Users/suzheng/Documents/suzheng/UNSW/UNSWTasks/2021/velocityRNA/results/combined_analysis/visualize4paper/Figures/\"\n",
    "\n",
    "#function to generate color bar\n",
    "color.bar <- function(x1, x2, rect_n=203, n_ticks=4, cols=con_sz, nbin = 128) {\n",
    "    df <- data.frame(x1,x2)\n",
    "    dd <- grDevices:::.smoothScatterCalcDensity(df, nbin = nbin)\n",
    "    dens <- as.numeric(dd$fhat)\n",
    "    dens <- dens[dens>0]\n",
    "    colLegend <- data.frame(density=seq(min(dens), max(dens), len=rect_n), color=I(colorRampPalette(cols)(rect_n)))\n",
    "    plot(NA, xlim=c(0,3), ylim=c(0,rect_n+1), type=\"n\", ann=FALSE, axes=FALSE)\n",
    "    rect(0, 1:rect_n, 1, 2:(rect_n+1), border=NA, col=colLegend$col)\n",
    "    div <- as.integer(rect_n/(n_ticks-1))+1\n",
    "    #first tick, middle ticks, last tick\n",
    "    tick_pos <- (1:rect_n == 1) | (1:rect_n %% div == div -1) |  (1:rect_n==rect_n)\n",
    "    text(2, ((1:rect_n)+0.5)[tick_pos], signif(colLegend$density, 2)[tick_pos])\n",
    "}\n",
    "#function to generate density scatter plot\n",
    "plotc = function(x1,x2,\n",
    "                   ylim=c(-1*max(c(x1,x2)),max(c(x1,x2))),\n",
    "                   xlim=c(-1*max(c(x1,x2)),max(c(x1,x2))),\n",
    "                   xlab=\"\",ylab=\"\",main=\"\", nbin=128) {\n",
    "     \n",
    "    df <- data.frame(x1,x2)\n",
    "    x <- densCols(x1,x2, colramp=colorRampPalette(c(\"black\", \"white\")), nbin = nbin)\n",
    "    df$dens <- col2rgb(x)[1,] + 1L\n",
    "    cols <- colorRampPalette(con_sz)(256)\n",
    "    \n",
    "    df$col <- cols[df$dens]\n",
    "    plot(x2~x1, data=df[order(df$dens),], \n",
    "         ylim=ylim,xlim=xlim,pch=20,col=col,\n",
    "         cex=0.8,xlab=xlab,ylab=ylab,\n",
    "         main=main, xaxt='n',bty=\"n\",xaxt='n')\n",
    "    #box(lwd=lwd_box)\n",
    "    axis(side = 1, lwd = lwd_box)\n",
    "    axis(side = 2, lwd = lwd_box)\n",
    "\n",
    "    abline(a=0,b=1, lwd=2.3, lty=2, col=con_sz[length(con_sz)])\n",
    "    y <- x2\n",
    "    x <- x1\n",
    "    lm.out <- lm(y ~ x)\n",
    "    newx = seq(min(x),max(x),by = 0.05)\n",
    "    conf_interval <- predict(lm.out, newdata=data.frame(x=newx), interval=\"confidence\",\n",
    "                             level = 0.95)\n",
    "    abline(lm.out, col=con_sz[1], lwd=2.6, lty=2)\n",
    "}\n",
    "\n",
    "#generate the scatter plot and bar legend of Figure 2a\n",
    "pdf(paste0(vis_dir, \"Figure2a.pdf\"), width=2.2, height=2.2, pointsize=pt_sz-1)\n",
    "par(mar=c(3.5,3.5,1,1), mgp=c(1.7,0.5, 0))\n",
    "xlab=\"Fold changes in mature RNAs (log2)\"\n",
    "ylab=\"Fold changes in pre-RNAs (log2)\"\n",
    "df <- read.csv(\"none.Smeg.out.DESeq2.logCPM5.exon_intron.cbind_tables.txt\", header=T, sep=\"\\t\", row.names=1)\n",
    "x <- df$logFC\n",
    "y <- df$logFC.1\n",
    "x[x>3] <- 3\n",
    "y[y>3] <- 3\n",
    "plotc(x, y, xlab=xlab, ylab=ylab)\n",
    "dev.off()\n",
    "\n",
    "pdf(paste0(vis_dir, \"Figure2a_bar.pdf\"), width=0.5, height=0.8, pointsize=pt_sz-1.5)\n",
    "par(mar=c(0.1,0.1,0.3,0.1))\n",
    "color.bar(x,y)\n",
    "dev.off()\n",
    "\n",
    "#generate the scatter plot and bar legend of Figure 1a\n",
    "pdf(paste0(vis_dir, \"Figure1a.pdf\"), width=2.2, height=2.2, pointsize=pt_sz-1)\n",
    "par(mar=c(3.5,3.5,1,1), mgp=c(1.7,0.5, 0))\n",
    "df <- read.csv(\"Brain_Caudate_basalganglia.Heart_AtrialAppendage.out.AllReads.DESeq2CPM5.exon_intron.cbind_tables.txt\", header=T, sep=\"\\t\", row.names=1)\n",
    "x <- df$logFC\n",
    "y <- df$logFC.1\n",
    "max <- 10\n",
    "x[x>max] <- max\n",
    "y[y>max] <- max\n",
    "x[x < -1*max] <- -1*max\n",
    "y[y< -1*max] <- -1* max\n",
    "plotc(x, y, xlab=xlab, ylab=ylab)\n",
    "dev.off()\n",
    "\n",
    "pdf(paste0(vis_dir, \"Figure1a_bar.pdf\"), width=0.5, height=0.8, pointsize=pt_sz-1.5)\n",
    "par(mar=c(0.1,0.1,0.3,0.1))\n",
    "color.bar(x,y)\n",
    "dev.off()\n"
   ]
  },
  {
   "cell_type": "code",
   "execution_count": null,
   "id": "0331feb9",
   "metadata": {},
   "outputs": [],
   "source": []
  }
 ],
 "metadata": {
  "kernelspec": {
   "display_name": "R",
   "language": "R",
   "name": "ir"
  },
  "language_info": {
   "codemirror_mode": "r",
   "file_extension": ".r",
   "mimetype": "text/x-r-source",
   "name": "R",
   "pygments_lexer": "r",
   "version": "4.1.2"
  }
 },
 "nbformat": 4,
 "nbformat_minor": 5
}
